{
 "cells": [
  {
   "cell_type": "code",
   "execution_count": 1,
   "id": "342bb43a",
   "metadata": {},
   "outputs": [],
   "source": [
    "import pandas as pd\n",
    "import matplotlib.pyplot as plt\n",
    "import numpy as np\n",
    "import statistics as st\n",
    "\n",
    "from surprise import Dataset, Reader, SVD, NMF\n",
    "from surprise.model_selection import train_test_split, GridSearchCV\n",
    "from surprise import accuracy\n",
    "\n",
    "from sklearn.metrics.pairwise import cosine_similarity\n",
    "from sklearn.cluster import KMeans\n",
    "\n",
    "from yellowbrick.cluster import KElbowVisualizer\n",
    "\n",
    "import warnings\n",
    "warnings.filterwarnings('ignore')"
   ]
  },
  {
   "cell_type": "code",
   "execution_count": 2,
   "id": "2679268f",
   "metadata": {},
   "outputs": [],
   "source": [
    "books_df = pd.read_csv(\"Books.csv\", usecols=[\"ISBN\", \"Book-Title\", \"Book-Author\", \"Year-Of-Publication\", \"Publisher\"])\n",
    "ratings_df = pd.read_csv(\"Ratings.csv\")\n",
    "users_df = pd.read_csv(\"Users.csv\", index_col=\"User-ID\")"
   ]
  },
  {
   "cell_type": "code",
   "execution_count": 3,
   "id": "88d2e5e8",
   "metadata": {},
   "outputs": [
    {
     "data": {
      "text/html": [
       "<div>\n",
       "<style scoped>\n",
       "    .dataframe tbody tr th:only-of-type {\n",
       "        vertical-align: middle;\n",
       "    }\n",
       "\n",
       "    .dataframe tbody tr th {\n",
       "        vertical-align: top;\n",
       "    }\n",
       "\n",
       "    .dataframe thead th {\n",
       "        text-align: right;\n",
       "    }\n",
       "</style>\n",
       "<table border=\"1\" class=\"dataframe\">\n",
       "  <thead>\n",
       "    <tr style=\"text-align: right;\">\n",
       "      <th></th>\n",
       "      <th>Location</th>\n",
       "      <th>Age</th>\n",
       "    </tr>\n",
       "    <tr>\n",
       "      <th>User-ID</th>\n",
       "      <th></th>\n",
       "      <th></th>\n",
       "    </tr>\n",
       "  </thead>\n",
       "  <tbody>\n",
       "    <tr>\n",
       "      <th>1</th>\n",
       "      <td>nyc, new york, usa</td>\n",
       "      <td>NaN</td>\n",
       "    </tr>\n",
       "    <tr>\n",
       "      <th>2</th>\n",
       "      <td>stockton, california, usa</td>\n",
       "      <td>18.0</td>\n",
       "    </tr>\n",
       "    <tr>\n",
       "      <th>3</th>\n",
       "      <td>moscow, yukon territory, russia</td>\n",
       "      <td>NaN</td>\n",
       "    </tr>\n",
       "    <tr>\n",
       "      <th>4</th>\n",
       "      <td>porto, v.n.gaia, portugal</td>\n",
       "      <td>17.0</td>\n",
       "    </tr>\n",
       "    <tr>\n",
       "      <th>5</th>\n",
       "      <td>farnborough, hants, united kingdom</td>\n",
       "      <td>NaN</td>\n",
       "    </tr>\n",
       "  </tbody>\n",
       "</table>\n",
       "</div>"
      ],
      "text/plain": [
       "                                   Location   Age\n",
       "User-ID                                          \n",
       "1                        nyc, new york, usa   NaN\n",
       "2                 stockton, california, usa  18.0\n",
       "3           moscow, yukon territory, russia   NaN\n",
       "4                 porto, v.n.gaia, portugal  17.0\n",
       "5        farnborough, hants, united kingdom   NaN"
      ]
     },
     "execution_count": 3,
     "metadata": {},
     "output_type": "execute_result"
    }
   ],
   "source": [
    "users_df.head(5)"
   ]
  },
  {
   "cell_type": "code",
   "execution_count": 4,
   "id": "c158d33b",
   "metadata": {},
   "outputs": [
    {
     "data": {
      "text/html": [
       "<div>\n",
       "<style scoped>\n",
       "    .dataframe tbody tr th:only-of-type {\n",
       "        vertical-align: middle;\n",
       "    }\n",
       "\n",
       "    .dataframe tbody tr th {\n",
       "        vertical-align: top;\n",
       "    }\n",
       "\n",
       "    .dataframe thead th {\n",
       "        text-align: right;\n",
       "    }\n",
       "</style>\n",
       "<table border=\"1\" class=\"dataframe\">\n",
       "  <thead>\n",
       "    <tr style=\"text-align: right;\">\n",
       "      <th></th>\n",
       "      <th>User-ID</th>\n",
       "      <th>ISBN</th>\n",
       "      <th>Book-Rating</th>\n",
       "    </tr>\n",
       "  </thead>\n",
       "  <tbody>\n",
       "    <tr>\n",
       "      <th>0</th>\n",
       "      <td>276725</td>\n",
       "      <td>034545104X</td>\n",
       "      <td>0</td>\n",
       "    </tr>\n",
       "    <tr>\n",
       "      <th>1</th>\n",
       "      <td>276726</td>\n",
       "      <td>0155061224</td>\n",
       "      <td>5</td>\n",
       "    </tr>\n",
       "    <tr>\n",
       "      <th>2</th>\n",
       "      <td>276727</td>\n",
       "      <td>0446520802</td>\n",
       "      <td>0</td>\n",
       "    </tr>\n",
       "  </tbody>\n",
       "</table>\n",
       "</div>"
      ],
      "text/plain": [
       "   User-ID        ISBN  Book-Rating\n",
       "0   276725  034545104X            0\n",
       "1   276726  0155061224            5\n",
       "2   276727  0446520802            0"
      ]
     },
     "execution_count": 4,
     "metadata": {},
     "output_type": "execute_result"
    }
   ],
   "source": [
    "books_df.head(3)\n",
    "ratings_df.head(3)\n",
    "#users_df.head(3)"
   ]
  },
  {
   "cell_type": "code",
   "execution_count": 34,
   "id": "286cda1e",
   "metadata": {},
   "outputs": [
    {
     "data": {
      "text/plain": [
       "array([ 0,  5,  3,  6,  8,  7, 10,  9,  4,  1,  2], dtype=int64)"
      ]
     },
     "execution_count": 34,
     "metadata": {},
     "output_type": "execute_result"
    }
   ],
   "source": [
    "ratings_df['Book-Rating'].unique()"
   ]
  },
  {
   "cell_type": "code",
   "execution_count": 5,
   "id": "aa8a9deb",
   "metadata": {},
   "outputs": [],
   "source": [
    "def get_similar_objects(object_id, ratings_df, object_column, search_column):\n",
    "    ratings = ratings_df.loc[ratings_df[object_column] == object_id]\n",
    "    similar_objects = pd.DataFrame(columns = ratings.columns)\n",
    "    for obj in ratings[search_column]:\n",
    "        similar_objects = pd.concat([similar_objects, ratings_df.loc[(ratings_df[search_column] == obj) & (ratings_df[object_column] != object_id)]])\n",
    "    return similar_objects.drop_duplicates(subset=[object_column])"
   ]
  },
  {
   "cell_type": "code",
   "execution_count": 6,
   "id": "ab91cd05",
   "metadata": {},
   "outputs": [],
   "source": [
    "def get_similarity(object1, object2, search_column):\n",
    "    common_values = np.array(list(set(object1[search_column]) & set(object2[search_column])))\n",
    "    object1 = object1[object1[search_column].isin(common_values)].sort_values(by=[search_column], ascending=True)\n",
    "    object2 = object2[object2[search_column].isin(common_values)].sort_values(by=[search_column], ascending=True)\n",
    "    if len(common_values) == 0:\n",
    "        #print(f\"Exit in \", 0)\n",
    "        return 0\n",
    "    correlation = np.corrcoef(object1['Book-Rating'].values, object2['Book-Rating'].values)[1, 0]\n",
    "    if not np.isnan(correlation):\n",
    "        return correlation\n",
    "    else:\n",
    "        return 1 - abs(object1['Book-Rating'].mean() - object2['Book-Rating'].mean())/10"
   ]
  },
  {
   "cell_type": "code",
   "execution_count": 7,
   "id": "9243a0a3",
   "metadata": {},
   "outputs": [
    {
     "name": "stdout",
     "output_type": "stream",
     "text": [
      "1\n",
      "Ни один из ближайших соседей не оценил книгу с данным id\n",
      "nan\n"
     ]
    }
   ],
   "source": [
    "def correlation_based_prediction(for_id, target_id, ratings_df, object_column, search_column, k=10):\n",
    "    obj = ratings_df.loc[ratings_df[object_column] == for_id]\n",
    "    similarities = get_similar_objects(for_id, ratings_df, object_column, search_column).apply(\n",
    "        lambda x: get_similarity(ratings_df.loc[ratings_df[object_column] == x[object_column]], obj, search_column), axis=1)\n",
    "    print(1)\n",
    "    similarities = similarities.nlargest(k)\n",
    "    k_closest =  ratings_df.loc[ratings_df[search_column] == target_id]\n",
    "    k_closest = k_closest.loc[similarities.index.intersection(k_closest.index)]\n",
    "    if len(k_closest) == 0:\n",
    "        print(\"Ни один из ближайших соседей не оценил книгу с данным id\")\n",
    "        return np.nan\n",
    "\n",
    "    similarities = similarities[k_closest.index]\n",
    "    k_closest.loc[:, \"Book-Rating\"] = 10\n",
    "    k_closest_mean = k_closest.apply(\n",
    "        lambda x: ratings_df.loc[ratings_df[object_column] == x[object_column]]['Book-Rating'].mean(), axis=1)\n",
    "    print(2)\n",
    "    prediction = (obj['Book-Rating'].mean() + \n",
    "    sum(similarities * (k_closest['Book-Rating'] - k_closest_mean))/\n",
    "    sum(similarities))\n",
    "    if prediction < 0:\n",
    "        prediction = 0\n",
    "    elif prediction > 10:\n",
    "        prediction = 10\n",
    "    return prediction\n",
    "    \n",
    "def user_based(user_id, item_id, ratings_df, k=1000):\n",
    "    return correlation_based_prediction(user_id, item_id, ratings_df, 'User-ID', 'ISBN', k)\n",
    "\n",
    "def item_based(user_id, item_id, ratings_df, k=1000):\n",
    "    return correlation_based_prediction(item_id, user_id, ratings_df, 'ISBN', 'User-ID', k)\n",
    "    \n",
    "\n",
    "#print(correlation_based_prediction(276746, '0786014512', ratings_df, 'User-ID', 'ISBN'))\n",
    "print(user_based(276729, '006019491X', ratings_df))"
   ]
  },
  {
   "cell_type": "code",
   "execution_count": 8,
   "id": "53b38e3e",
   "metadata": {},
   "outputs": [
    {
     "data": {
      "text/html": [
       "<div>\n",
       "<style scoped>\n",
       "    .dataframe tbody tr th:only-of-type {\n",
       "        vertical-align: middle;\n",
       "    }\n",
       "\n",
       "    .dataframe tbody tr th {\n",
       "        vertical-align: top;\n",
       "    }\n",
       "\n",
       "    .dataframe thead th {\n",
       "        text-align: right;\n",
       "    }\n",
       "</style>\n",
       "<table border=\"1\" class=\"dataframe\">\n",
       "  <thead>\n",
       "    <tr style=\"text-align: right;\">\n",
       "      <th></th>\n",
       "      <th>User-ID</th>\n",
       "      <th>ISBN</th>\n",
       "      <th>Book-Rating</th>\n",
       "    </tr>\n",
       "  </thead>\n",
       "  <tbody>\n",
       "  </tbody>\n",
       "</table>\n",
       "</div>"
      ],
      "text/plain": [
       "Empty DataFrame\n",
       "Columns: [User-ID, ISBN, Book-Rating]\n",
       "Index: []"
      ]
     },
     "execution_count": 8,
     "metadata": {},
     "output_type": "execute_result"
    }
   ],
   "source": [
    "get_similar_objects(276729, ratings_df, 'User-ID', 'ISBN')"
   ]
  },
  {
   "cell_type": "markdown",
   "id": "0157af8b",
   "metadata": {},
   "source": [
    "# Модель с кластеризацией"
   ]
  },
  {
   "cell_type": "code",
   "execution_count": 9,
   "id": "c10381b2",
   "metadata": {},
   "outputs": [],
   "source": [
    "class ClusteringModel:\n",
    "    def __init__(self, ratings_df):\n",
    "        self.ratings_df = ratings_df\n",
    "        self.user_item_matrix = pd.pivot_table(ratings_df[:50000], values='Book-Rating', index='User-ID', columns='ISBN')\n",
    "        self.user_item_matrix.fillna(-1, inplace=True)\n",
    "        self.user_similarity = cosine_similarity(self.user_item_matrix)\n",
    "        self.reindexed_matrix = self.user_item_matrix.reset_index()\n",
    "        \n",
    "    def show_optimal_clusters(self):\n",
    "        \n",
    "        visualizer = KElbowVisualizer(KMeans(), k=(2,12))\n",
    "        visualizer.fit(self.user_similarity)        # Fit the data to the visualizer\n",
    "        visualizer.show()  \n",
    "    \n",
    "    def create_clusters(self, clusters_num):\n",
    "        self.kmeans = KMeans(n_clusters=clusters_num, random_state=42)\n",
    "        self.user_clusters = self.kmeans.fit_predict(self.user_similarity)\n",
    "    \n",
    "    def get_user_cluster(self, user_id):\n",
    "        return self.kmeans.predict(self.user_similarity[self.reindexed_matrix.loc[self.reindexed_matrix['User-ID'] == 276729].index])\n",
    "    \n",
    "    def predict_rating(self, user_id, item_id):\n",
    "        cluster = self.get_user_cluster(user_id)\n",
    "        cluster_df = self.reindexed_matrix[self.user_clusters == cluster]\n",
    "        cluster_ratings = cluster_df[item_id].loc[cluster_df[item_id] != -1]\n",
    "        #if len(cluster_ratings) > 1:\n",
    "        #   print(cluster_ratings)\n",
    "        #   print(cluster_ratings.mean())\n",
    "        return cluster_ratings.mean()"
   ]
  },
  {
   "cell_type": "code",
   "execution_count": 10,
   "id": "a1bafe5c",
   "metadata": {},
   "outputs": [
    {
     "data": {
      "image/png": "[encoded data removed]",
      "text/plain": [
       "<Figure size 800x550 with 2 Axes>"
      ]
     },
     "metadata": {},
     "output_type": "display_data"
    }
   ],
   "source": [
    "model = ClusteringModel(ratings_df.iloc[:1000])\n",
    "model.show_optimal_clusters()"
   ]
  },
  {
   "cell_type": "code",
   "execution_count": 11,
   "id": "57e5f780",
   "metadata": {},
   "outputs": [],
   "source": [
    "\n",
    "model.create_clusters(4)\n",
    "model.get_user_cluster(276729)\n",
    "for item in model.user_item_matrix.columns:\n",
    "    model.predict_rating(276729, item)"
   ]
  },
  {
   "cell_type": "code",
   "execution_count": 12,
   "id": "071faea5",
   "metadata": {},
   "outputs": [
    {
     "data": {
      "text/html": [
       "<div>\n",
       "<style scoped>\n",
       "    .dataframe tbody tr th:only-of-type {\n",
       "        vertical-align: middle;\n",
       "    }\n",
       "\n",
       "    .dataframe tbody tr th {\n",
       "        vertical-align: top;\n",
       "    }\n",
       "\n",
       "    .dataframe thead th {\n",
       "        text-align: right;\n",
       "    }\n",
       "</style>\n",
       "<table border=\"1\" class=\"dataframe\">\n",
       "  <thead>\n",
       "    <tr style=\"text-align: right;\">\n",
       "      <th>ISBN</th>\n",
       "      <th>User-ID</th>\n",
       "      <th>000225669X</th>\n",
       "      <th>0006379702</th>\n",
       "      <th>000651118X</th>\n",
       "      <th>0006511929</th>\n",
       "      <th>002542730X</th>\n",
       "      <th>00273755</th>\n",
       "      <th>0060002484</th>\n",
       "      <th>0060011939</th>\n",
       "      <th>0060094117</th>\n",
       "      <th>...</th>\n",
       "      <th>9508521481</th>\n",
       "      <th>9513098648</th>\n",
       "      <th>9681500830</th>\n",
       "      <th>9722900684</th>\n",
       "      <th>9726954835</th>\n",
       "      <th>9782922145441</th>\n",
       "      <th>9871138016</th>\n",
       "      <th>B0000BLD7X</th>\n",
       "      <th>B158991965</th>\n",
       "      <th>N3453124715</th>\n",
       "    </tr>\n",
       "  </thead>\n",
       "  <tbody>\n",
       "    <tr>\n",
       "      <th>0</th>\n",
       "      <td>276725</td>\n",
       "      <td>-1.0</td>\n",
       "      <td>-1.0</td>\n",
       "      <td>-1.0</td>\n",
       "      <td>-1.0</td>\n",
       "      <td>-1.0</td>\n",
       "      <td>-1.0</td>\n",
       "      <td>-1.0</td>\n",
       "      <td>-1.0</td>\n",
       "      <td>-1.0</td>\n",
       "      <td>...</td>\n",
       "      <td>-1.0</td>\n",
       "      <td>-1.0</td>\n",
       "      <td>-1.0</td>\n",
       "      <td>-1.0</td>\n",
       "      <td>-1.0</td>\n",
       "      <td>-1.0</td>\n",
       "      <td>-1.0</td>\n",
       "      <td>-1.0</td>\n",
       "      <td>-1.0</td>\n",
       "      <td>-1.0</td>\n",
       "    </tr>\n",
       "    <tr>\n",
       "      <th>1</th>\n",
       "      <td>276726</td>\n",
       "      <td>-1.0</td>\n",
       "      <td>-1.0</td>\n",
       "      <td>-1.0</td>\n",
       "      <td>-1.0</td>\n",
       "      <td>-1.0</td>\n",
       "      <td>-1.0</td>\n",
       "      <td>-1.0</td>\n",
       "      <td>-1.0</td>\n",
       "      <td>-1.0</td>\n",
       "      <td>...</td>\n",
       "      <td>-1.0</td>\n",
       "      <td>-1.0</td>\n",
       "      <td>-1.0</td>\n",
       "      <td>-1.0</td>\n",
       "      <td>-1.0</td>\n",
       "      <td>-1.0</td>\n",
       "      <td>-1.0</td>\n",
       "      <td>-1.0</td>\n",
       "      <td>-1.0</td>\n",
       "      <td>-1.0</td>\n",
       "    </tr>\n",
       "    <tr>\n",
       "      <th>2</th>\n",
       "      <td>276727</td>\n",
       "      <td>-1.0</td>\n",
       "      <td>-1.0</td>\n",
       "      <td>-1.0</td>\n",
       "      <td>-1.0</td>\n",
       "      <td>-1.0</td>\n",
       "      <td>-1.0</td>\n",
       "      <td>-1.0</td>\n",
       "      <td>-1.0</td>\n",
       "      <td>-1.0</td>\n",
       "      <td>...</td>\n",
       "      <td>-1.0</td>\n",
       "      <td>-1.0</td>\n",
       "      <td>-1.0</td>\n",
       "      <td>-1.0</td>\n",
       "      <td>-1.0</td>\n",
       "      <td>-1.0</td>\n",
       "      <td>-1.0</td>\n",
       "      <td>-1.0</td>\n",
       "      <td>-1.0</td>\n",
       "      <td>-1.0</td>\n",
       "    </tr>\n",
       "    <tr>\n",
       "      <th>3</th>\n",
       "      <td>276729</td>\n",
       "      <td>-1.0</td>\n",
       "      <td>-1.0</td>\n",
       "      <td>-1.0</td>\n",
       "      <td>-1.0</td>\n",
       "      <td>-1.0</td>\n",
       "      <td>-1.0</td>\n",
       "      <td>-1.0</td>\n",
       "      <td>-1.0</td>\n",
       "      <td>-1.0</td>\n",
       "      <td>...</td>\n",
       "      <td>-1.0</td>\n",
       "      <td>-1.0</td>\n",
       "      <td>-1.0</td>\n",
       "      <td>-1.0</td>\n",
       "      <td>-1.0</td>\n",
       "      <td>-1.0</td>\n",
       "      <td>-1.0</td>\n",
       "      <td>-1.0</td>\n",
       "      <td>-1.0</td>\n",
       "      <td>-1.0</td>\n",
       "    </tr>\n",
       "    <tr>\n",
       "      <th>4</th>\n",
       "      <td>276733</td>\n",
       "      <td>-1.0</td>\n",
       "      <td>-1.0</td>\n",
       "      <td>-1.0</td>\n",
       "      <td>-1.0</td>\n",
       "      <td>-1.0</td>\n",
       "      <td>-1.0</td>\n",
       "      <td>-1.0</td>\n",
       "      <td>-1.0</td>\n",
       "      <td>-1.0</td>\n",
       "      <td>...</td>\n",
       "      <td>-1.0</td>\n",
       "      <td>-1.0</td>\n",
       "      <td>-1.0</td>\n",
       "      <td>-1.0</td>\n",
       "      <td>-1.0</td>\n",
       "      <td>-1.0</td>\n",
       "      <td>-1.0</td>\n",
       "      <td>-1.0</td>\n",
       "      <td>-1.0</td>\n",
       "      <td>-1.0</td>\n",
       "    </tr>\n",
       "    <tr>\n",
       "      <th>...</th>\n",
       "      <td>...</td>\n",
       "      <td>...</td>\n",
       "      <td>...</td>\n",
       "      <td>...</td>\n",
       "      <td>...</td>\n",
       "      <td>...</td>\n",
       "      <td>...</td>\n",
       "      <td>...</td>\n",
       "      <td>...</td>\n",
       "      <td>...</td>\n",
       "      <td>...</td>\n",
       "      <td>...</td>\n",
       "      <td>...</td>\n",
       "      <td>...</td>\n",
       "      <td>...</td>\n",
       "      <td>...</td>\n",
       "      <td>...</td>\n",
       "      <td>...</td>\n",
       "      <td>...</td>\n",
       "      <td>...</td>\n",
       "      <td>...</td>\n",
       "    </tr>\n",
       "    <tr>\n",
       "      <th>159</th>\n",
       "      <td>277157</td>\n",
       "      <td>-1.0</td>\n",
       "      <td>-1.0</td>\n",
       "      <td>-1.0</td>\n",
       "      <td>-1.0</td>\n",
       "      <td>-1.0</td>\n",
       "      <td>-1.0</td>\n",
       "      <td>0.0</td>\n",
       "      <td>-1.0</td>\n",
       "      <td>0.0</td>\n",
       "      <td>...</td>\n",
       "      <td>-1.0</td>\n",
       "      <td>-1.0</td>\n",
       "      <td>-1.0</td>\n",
       "      <td>-1.0</td>\n",
       "      <td>-1.0</td>\n",
       "      <td>-1.0</td>\n",
       "      <td>-1.0</td>\n",
       "      <td>-1.0</td>\n",
       "      <td>-1.0</td>\n",
       "      <td>-1.0</td>\n",
       "    </tr>\n",
       "    <tr>\n",
       "      <th>160</th>\n",
       "      <td>277159</td>\n",
       "      <td>-1.0</td>\n",
       "      <td>-1.0</td>\n",
       "      <td>-1.0</td>\n",
       "      <td>-1.0</td>\n",
       "      <td>-1.0</td>\n",
       "      <td>-1.0</td>\n",
       "      <td>-1.0</td>\n",
       "      <td>-1.0</td>\n",
       "      <td>-1.0</td>\n",
       "      <td>...</td>\n",
       "      <td>-1.0</td>\n",
       "      <td>-1.0</td>\n",
       "      <td>-1.0</td>\n",
       "      <td>-1.0</td>\n",
       "      <td>-1.0</td>\n",
       "      <td>-1.0</td>\n",
       "      <td>-1.0</td>\n",
       "      <td>-1.0</td>\n",
       "      <td>-1.0</td>\n",
       "      <td>-1.0</td>\n",
       "    </tr>\n",
       "    <tr>\n",
       "      <th>161</th>\n",
       "      <td>277165</td>\n",
       "      <td>-1.0</td>\n",
       "      <td>-1.0</td>\n",
       "      <td>-1.0</td>\n",
       "      <td>-1.0</td>\n",
       "      <td>-1.0</td>\n",
       "      <td>-1.0</td>\n",
       "      <td>-1.0</td>\n",
       "      <td>-1.0</td>\n",
       "      <td>-1.0</td>\n",
       "      <td>...</td>\n",
       "      <td>-1.0</td>\n",
       "      <td>-1.0</td>\n",
       "      <td>-1.0</td>\n",
       "      <td>-1.0</td>\n",
       "      <td>-1.0</td>\n",
       "      <td>-1.0</td>\n",
       "      <td>-1.0</td>\n",
       "      <td>-1.0</td>\n",
       "      <td>-1.0</td>\n",
       "      <td>-1.0</td>\n",
       "    </tr>\n",
       "    <tr>\n",
       "      <th>162</th>\n",
       "      <td>277168</td>\n",
       "      <td>-1.0</td>\n",
       "      <td>-1.0</td>\n",
       "      <td>-1.0</td>\n",
       "      <td>-1.0</td>\n",
       "      <td>-1.0</td>\n",
       "      <td>-1.0</td>\n",
       "      <td>-1.0</td>\n",
       "      <td>-1.0</td>\n",
       "      <td>-1.0</td>\n",
       "      <td>...</td>\n",
       "      <td>-1.0</td>\n",
       "      <td>-1.0</td>\n",
       "      <td>-1.0</td>\n",
       "      <td>-1.0</td>\n",
       "      <td>-1.0</td>\n",
       "      <td>-1.0</td>\n",
       "      <td>-1.0</td>\n",
       "      <td>-1.0</td>\n",
       "      <td>-1.0</td>\n",
       "      <td>-1.0</td>\n",
       "    </tr>\n",
       "    <tr>\n",
       "      <th>163</th>\n",
       "      <td>277170</td>\n",
       "      <td>-1.0</td>\n",
       "      <td>-1.0</td>\n",
       "      <td>-1.0</td>\n",
       "      <td>-1.0</td>\n",
       "      <td>-1.0</td>\n",
       "      <td>-1.0</td>\n",
       "      <td>-1.0</td>\n",
       "      <td>-1.0</td>\n",
       "      <td>-1.0</td>\n",
       "      <td>...</td>\n",
       "      <td>-1.0</td>\n",
       "      <td>-1.0</td>\n",
       "      <td>-1.0</td>\n",
       "      <td>-1.0</td>\n",
       "      <td>-1.0</td>\n",
       "      <td>-1.0</td>\n",
       "      <td>-1.0</td>\n",
       "      <td>-1.0</td>\n",
       "      <td>-1.0</td>\n",
       "      <td>-1.0</td>\n",
       "    </tr>\n",
       "  </tbody>\n",
       "</table>\n",
       "<p>164 rows × 987 columns</p>\n",
       "</div>"
      ],
      "text/plain": [
       "ISBN  User-ID  000225669X  0006379702  000651118X  0006511929  002542730X   \n",
       "0      276725        -1.0        -1.0        -1.0        -1.0        -1.0  \\\n",
       "1      276726        -1.0        -1.0        -1.0        -1.0        -1.0   \n",
       "2      276727        -1.0        -1.0        -1.0        -1.0        -1.0   \n",
       "3      276729        -1.0        -1.0        -1.0        -1.0        -1.0   \n",
       "4      276733        -1.0        -1.0        -1.0        -1.0        -1.0   \n",
       "..        ...         ...         ...         ...         ...         ...   \n",
       "159    277157        -1.0        -1.0        -1.0        -1.0        -1.0   \n",
       "160    277159        -1.0        -1.0        -1.0        -1.0        -1.0   \n",
       "161    277165        -1.0        -1.0        -1.0        -1.0        -1.0   \n",
       "162    277168        -1.0        -1.0        -1.0        -1.0        -1.0   \n",
       "163    277170        -1.0        -1.0        -1.0        -1.0        -1.0   \n",
       "\n",
       "ISBN  00273755  0060002484  0060011939  0060094117  ...  9508521481   \n",
       "0         -1.0        -1.0        -1.0        -1.0  ...        -1.0  \\\n",
       "1         -1.0        -1.0        -1.0        -1.0  ...        -1.0   \n",
       "2         -1.0        -1.0        -1.0        -1.0  ...        -1.0   \n",
       "3         -1.0        -1.0        -1.0        -1.0  ...        -1.0   \n",
       "4         -1.0        -1.0        -1.0        -1.0  ...        -1.0   \n",
       "..         ...         ...         ...         ...  ...         ...   \n",
       "159       -1.0         0.0        -1.0         0.0  ...        -1.0   \n",
       "160       -1.0        -1.0        -1.0        -1.0  ...        -1.0   \n",
       "161       -1.0        -1.0        -1.0        -1.0  ...        -1.0   \n",
       "162       -1.0        -1.0        -1.0        -1.0  ...        -1.0   \n",
       "163       -1.0        -1.0        -1.0        -1.0  ...        -1.0   \n",
       "\n",
       "ISBN  9513098648  9681500830  9722900684  9726954835  9782922145441   \n",
       "0           -1.0        -1.0        -1.0        -1.0           -1.0  \\\n",
       "1           -1.0        -1.0        -1.0        -1.0           -1.0   \n",
       "2           -1.0        -1.0        -1.0        -1.0           -1.0   \n",
       "3           -1.0        -1.0        -1.0        -1.0           -1.0   \n",
       "4           -1.0        -1.0        -1.0        -1.0           -1.0   \n",
       "..           ...         ...         ...         ...            ...   \n",
       "159         -1.0        -1.0        -1.0        -1.0           -1.0   \n",
       "160         -1.0        -1.0        -1.0        -1.0           -1.0   \n",
       "161         -1.0        -1.0        -1.0        -1.0           -1.0   \n",
       "162         -1.0        -1.0        -1.0        -1.0           -1.0   \n",
       "163         -1.0        -1.0        -1.0        -1.0           -1.0   \n",
       "\n",
       "ISBN  9871138016  B0000BLD7X  B158991965  N3453124715  \n",
       "0           -1.0        -1.0        -1.0         -1.0  \n",
       "1           -1.0        -1.0        -1.0         -1.0  \n",
       "2           -1.0        -1.0        -1.0         -1.0  \n",
       "3           -1.0        -1.0        -1.0         -1.0  \n",
       "4           -1.0        -1.0        -1.0         -1.0  \n",
       "..           ...         ...         ...          ...  \n",
       "159         -1.0        -1.0        -1.0         -1.0  \n",
       "160         -1.0        -1.0        -1.0         -1.0  \n",
       "161         -1.0        -1.0        -1.0         -1.0  \n",
       "162         -1.0        -1.0        -1.0         -1.0  \n",
       "163         -1.0        -1.0        -1.0         -1.0  \n",
       "\n",
       "[164 rows x 987 columns]"
      ]
     },
     "execution_count": 12,
     "metadata": {},
     "output_type": "execute_result"
    }
   ],
   "source": [
    "model.reindexed_matrix"
   ]
  },
  {
   "cell_type": "code",
   "execution_count": 22,
   "id": "c88eafd8",
   "metadata": {},
   "outputs": [],
   "source": [
    "model = ClusteringModel(ratings_df)\n",
    "\n"
   ]
  },
  {
   "cell_type": "code",
   "execution_count": 14,
   "id": "2a523f29",
   "metadata": {},
   "outputs": [
    {
     "data": {
      "image/png": "[encoded data removed]",
      "text/plain": [
       "<Figure size 800x550 with 2 Axes>"
      ]
     },
     "metadata": {},
     "output_type": "display_data"
    }
   ],
   "source": [
    "user_item_matrix = pd.pivot_table(ratings_df[:1000], values='Book-Rating', index='User-ID', columns='ISBN')\n",
    "user_item_matrix.fillna(-1, inplace=True)\n",
    "\n",
    "# Вычисление схожести пользователей\n",
    "user_similarity = cosine_similarity(user_item_matrix)\n",
    "\n",
    "for k in range(2, 11):\n",
    "    kmeans = KMeans(n_clusters=k, random_state=42)\n",
    "    kmeans.fit(user_similarity)\n",
    "\n",
    "visualizer = KElbowVisualizer(kmeans, k=(2,12))\n",
    "visualizer.fit(user_similarity)        # Fit the data to the visualizer\n",
    "visualizer.show()  \n",
    "# Определение оптимального числа кластеров\n",
    "optimal_k = 4\n",
    "\n",
    "\n",
    "\n",
    "# Проведение кластеризации с оптимальным k\n",
    "kmeans = KMeans(n_clusters=optimal_k, random_state=42)\n",
    "user_clusters = kmeans.fit_predict(user_similarity)"
   ]
  },
  {
   "cell_type": "code",
   "execution_count": 15,
   "id": "99df9dab",
   "metadata": {
    "scrolled": true
   },
   "outputs": [
    {
     "data": {
      "text/plain": [
       "array([1])"
      ]
     },
     "execution_count": 15,
     "metadata": {},
     "output_type": "execute_result"
    }
   ],
   "source": [
    "reseted_matrix = user_item_matrix.reset_index()\n",
    "reseted_matrix.loc[reseted_matrix['User-ID'] == 276729].index\n",
    "kmeans.predict(user_similarity[reseted_matrix.loc[reseted_matrix['User-ID'] == 276729].index])"
   ]
  },
  {
   "cell_type": "code",
   "execution_count": 16,
   "id": "5f2f473d",
   "metadata": {},
   "outputs": [
    {
     "data": {
      "text/html": [
       "<div>\n",
       "<style scoped>\n",
       "    .dataframe tbody tr th:only-of-type {\n",
       "        vertical-align: middle;\n",
       "    }\n",
       "\n",
       "    .dataframe tbody tr th {\n",
       "        vertical-align: top;\n",
       "    }\n",
       "\n",
       "    .dataframe thead th {\n",
       "        text-align: right;\n",
       "    }\n",
       "</style>\n",
       "<table border=\"1\" class=\"dataframe\">\n",
       "  <thead>\n",
       "    <tr style=\"text-align: right;\">\n",
       "      <th>ISBN</th>\n",
       "      <th>000225669X</th>\n",
       "      <th>0006379702</th>\n",
       "      <th>000651118X</th>\n",
       "      <th>0006511929</th>\n",
       "      <th>002542730X</th>\n",
       "      <th>00273755</th>\n",
       "      <th>0060002484</th>\n",
       "      <th>0060011939</th>\n",
       "      <th>0060094117</th>\n",
       "      <th>0060096195</th>\n",
       "      <th>...</th>\n",
       "      <th>9508521481</th>\n",
       "      <th>9513098648</th>\n",
       "      <th>9681500830</th>\n",
       "      <th>9722900684</th>\n",
       "      <th>9726954835</th>\n",
       "      <th>9782922145441</th>\n",
       "      <th>9871138016</th>\n",
       "      <th>B0000BLD7X</th>\n",
       "      <th>B158991965</th>\n",
       "      <th>N3453124715</th>\n",
       "    </tr>\n",
       "    <tr>\n",
       "      <th>User-ID</th>\n",
       "      <th></th>\n",
       "      <th></th>\n",
       "      <th></th>\n",
       "      <th></th>\n",
       "      <th></th>\n",
       "      <th></th>\n",
       "      <th></th>\n",
       "      <th></th>\n",
       "      <th></th>\n",
       "      <th></th>\n",
       "      <th></th>\n",
       "      <th></th>\n",
       "      <th></th>\n",
       "      <th></th>\n",
       "      <th></th>\n",
       "      <th></th>\n",
       "      <th></th>\n",
       "      <th></th>\n",
       "      <th></th>\n",
       "      <th></th>\n",
       "      <th></th>\n",
       "    </tr>\n",
       "  </thead>\n",
       "  <tbody>\n",
       "    <tr>\n",
       "      <th>276729</th>\n",
       "      <td>-1.0</td>\n",
       "      <td>-1.0</td>\n",
       "      <td>-1.0</td>\n",
       "      <td>-1.0</td>\n",
       "      <td>-1.0</td>\n",
       "      <td>-1.0</td>\n",
       "      <td>-1.0</td>\n",
       "      <td>-1.0</td>\n",
       "      <td>-1.0</td>\n",
       "      <td>-1.0</td>\n",
       "      <td>...</td>\n",
       "      <td>-1.0</td>\n",
       "      <td>-1.0</td>\n",
       "      <td>-1.0</td>\n",
       "      <td>-1.0</td>\n",
       "      <td>-1.0</td>\n",
       "      <td>-1.0</td>\n",
       "      <td>-1.0</td>\n",
       "      <td>-1.0</td>\n",
       "      <td>-1.0</td>\n",
       "      <td>-1.0</td>\n",
       "    </tr>\n",
       "  </tbody>\n",
       "</table>\n",
       "<p>1 rows × 986 columns</p>\n",
       "</div>"
      ],
      "text/plain": [
       "ISBN     000225669X  0006379702  000651118X  0006511929  002542730X  00273755   \n",
       "User-ID                                                                         \n",
       "276729         -1.0        -1.0        -1.0        -1.0        -1.0      -1.0  \\\n",
       "\n",
       "ISBN     0060002484  0060011939  0060094117  0060096195  ...  9508521481   \n",
       "User-ID                                                  ...               \n",
       "276729         -1.0        -1.0        -1.0        -1.0  ...        -1.0  \\\n",
       "\n",
       "ISBN     9513098648  9681500830  9722900684  9726954835  9782922145441   \n",
       "User-ID                                                                  \n",
       "276729         -1.0        -1.0        -1.0        -1.0           -1.0  \\\n",
       "\n",
       "ISBN     9871138016  B0000BLD7X  B158991965  N3453124715  \n",
       "User-ID                                                   \n",
       "276729         -1.0        -1.0        -1.0         -1.0  \n",
       "\n",
       "[1 rows x 986 columns]"
      ]
     },
     "execution_count": 16,
     "metadata": {},
     "output_type": "execute_result"
    }
   ],
   "source": [
    "user_item_matrix[(user_item_matrix == user_item_matrix.loc[276729]).all(axis=1)]"
   ]
  },
  {
   "cell_type": "code",
   "execution_count": 17,
   "id": "9d057f37",
   "metadata": {},
   "outputs": [
    {
     "data": {
      "text/html": [
       "<div>\n",
       "<style scoped>\n",
       "    .dataframe tbody tr th:only-of-type {\n",
       "        vertical-align: middle;\n",
       "    }\n",
       "\n",
       "    .dataframe tbody tr th {\n",
       "        vertical-align: top;\n",
       "    }\n",
       "\n",
       "    .dataframe thead th {\n",
       "        text-align: right;\n",
       "    }\n",
       "</style>\n",
       "<table border=\"1\" class=\"dataframe\">\n",
       "  <thead>\n",
       "    <tr style=\"text-align: right;\">\n",
       "      <th></th>\n",
       "      <th>User-ID</th>\n",
       "      <th>ISBN</th>\n",
       "      <th>Book-Rating</th>\n",
       "    </tr>\n",
       "  </thead>\n",
       "  <tbody>\n",
       "    <tr>\n",
       "      <th>3</th>\n",
       "      <td>276729</td>\n",
       "      <td>052165615X</td>\n",
       "      <td>3</td>\n",
       "    </tr>\n",
       "    <tr>\n",
       "      <th>4</th>\n",
       "      <td>276729</td>\n",
       "      <td>0521795028</td>\n",
       "      <td>6</td>\n",
       "    </tr>\n",
       "  </tbody>\n",
       "</table>\n",
       "</div>"
      ],
      "text/plain": [
       "   User-ID        ISBN  Book-Rating\n",
       "3   276729  052165615X            3\n",
       "4   276729  0521795028            6"
      ]
     },
     "execution_count": 17,
     "metadata": {},
     "output_type": "execute_result"
    }
   ],
   "source": [
    "ratings_df.loc[ratings_df['User-ID'] == 276729]"
   ]
  },
  {
   "cell_type": "code",
   "execution_count": 18,
   "id": "5a1ad1f0",
   "metadata": {},
   "outputs": [
    {
     "data": {
      "text/plain": [
       "array([1])"
      ]
     },
     "execution_count": 18,
     "metadata": {},
     "output_type": "execute_result"
    }
   ],
   "source": [
    "kmeans.predict(user_similarity[150].reshape(1, -1))"
   ]
  },
  {
   "cell_type": "code",
   "execution_count": 19,
   "id": "d3976dc0",
   "metadata": {},
   "outputs": [
    {
     "data": {
      "text/plain": [
       "array([0, 1, 2, 3])"
      ]
     },
     "execution_count": 19,
     "metadata": {},
     "output_type": "execute_result"
    }
   ],
   "source": [
    "np.unique(user_clusters)"
   ]
  },
  {
   "cell_type": "markdown",
   "id": "11e8126c",
   "metadata": {},
   "source": [
    "# Матричная факторизация"
   ]
  },
  {
   "cell_type": "code",
   "execution_count": 31,
   "id": "e1241575",
   "metadata": {},
   "outputs": [
    {
     "name": "stdout",
     "output_type": "stream",
     "text": [
      "<surprise.prediction_algorithms.matrix_factorization.SVD object at 0x000002246550C990>\n",
      "RMSE: 3.4960\n",
      "3.496019301873556\n",
      "<surprise.prediction_algorithms.matrix_factorization.NMF object at 0x00000224655088D0>\n",
      "RMSE: 3.9477\n",
      "3.9477191147706234\n"
     ]
    }
   ],
   "source": [
    "\n",
    "reader = Reader(rating_scale=(0, 10))\n",
    "ratings_dataset = Dataset.load_from_df(ratings_df, reader=reader)\n",
    "train, test = train_test_split(ratings_dataset, test_size=0.15)\n",
    "algs = [SVD(), NMF()]\n",
    "for alg in algs:\n",
    "    alg.fit(train)\n",
    "    predictions = alg.test(test)\n",
    "    print(accuracy.rmse(predictions))"
   ]
  },
  {
   "cell_type": "code",
   "execution_count": 33,
   "id": "e80b00e3",
   "metadata": {},
   "outputs": [
    {
     "name": "stdout",
     "output_type": "stream",
     "text": [
      "user: 276729     item: 006019491X r_ui = None   est = 4.25   {'was_impossible': False}\n",
      "user: 276729     item: 006019491X r_ui = None   est = 4.75   {'was_impossible': False}\n"
     ]
    }
   ],
   "source": [
    "for alg in algs:\n",
    "    print(alg.predict(276729, '006019491X'))"
   ]
  },
  {
   "cell_type": "code",
   "execution_count": 27,
   "id": "89d6987a",
   "metadata": {},
   "outputs": [
    {
     "data": {
      "text/plain": [
       "Prediction(uid=276729, iid='006019491X', r_ui=None, est=4.671501825176401, details={'was_impossible': False})"
      ]
     },
     "execution_count": 27,
     "metadata": {},
     "output_type": "execute_result"
    }
   ],
   "source": [
    "alg.predict(276729, '006019491X')"
   ]
  },
  {
   "cell_type": "code",
   "execution_count": 29,
   "id": "3a34fc65",
   "metadata": {},
   "outputs": [
    {
     "data": {
      "text/html": [
       "<div>\n",
       "<style scoped>\n",
       "    .dataframe tbody tr th:only-of-type {\n",
       "        vertical-align: middle;\n",
       "    }\n",
       "\n",
       "    .dataframe tbody tr th {\n",
       "        vertical-align: top;\n",
       "    }\n",
       "\n",
       "    .dataframe thead th {\n",
       "        text-align: right;\n",
       "    }\n",
       "</style>\n",
       "<table border=\"1\" class=\"dataframe\">\n",
       "  <thead>\n",
       "    <tr style=\"text-align: right;\">\n",
       "      <th></th>\n",
       "      <th>User-ID</th>\n",
       "      <th>ISBN</th>\n",
       "      <th>Book-Rating</th>\n",
       "    </tr>\n",
       "  </thead>\n",
       "  <tbody>\n",
       "    <tr>\n",
       "      <th>3</th>\n",
       "      <td>276729</td>\n",
       "      <td>052165615X</td>\n",
       "      <td>3</td>\n",
       "    </tr>\n",
       "    <tr>\n",
       "      <th>4</th>\n",
       "      <td>276729</td>\n",
       "      <td>0521795028</td>\n",
       "      <td>6</td>\n",
       "    </tr>\n",
       "  </tbody>\n",
       "</table>\n",
       "</div>"
      ],
      "text/plain": [
       "   User-ID        ISBN  Book-Rating\n",
       "3   276729  052165615X            3\n",
       "4   276729  0521795028            6"
      ]
     },
     "execution_count": 29,
     "metadata": {},
     "output_type": "execute_result"
    }
   ],
   "source": [
    "ratings_df.loc[ratings_df['User-ID'] == 276729]"
   ]
  },
  {
   "cell_type": "code",
   "execution_count": null,
   "id": "dbbbe8c1",
   "metadata": {},
   "outputs": [],
   "source": []
  }
 ],
 "metadata": {
  "kernelspec": {
   "display_name": "Python 3 (ipykernel)",
   "language": "python",
   "name": "python3"
  },
  "language_info": {
   "codemirror_mode": {
    "name": "ipython",
    "version": 3
   },
   "file_extension": ".py",
   "mimetype": "text/x-python",
   "name": "python",
   "nbconvert_exporter": "python",
   "pygments_lexer": "ipython3",
   "version": "3.11.3"
  }
 },
 "nbformat": 4,
 "nbformat_minor": 5
}
