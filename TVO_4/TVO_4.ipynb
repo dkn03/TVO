{
 "cells": [
  {
   "cell_type": "code",
   "execution_count": 1,
   "id": "7f4b7a3a",
   "metadata": {},
   "outputs": [],
   "source": [
    "import pandas as pd\n",
    "import numpy as np\n",
    "import time\n",
    "import matplotlib.pyplot as plt\n",
    "\n",
    "import pymorphy2\n",
    "\n",
    "import re\n",
    "\n",
    "import nltk\n",
    "from nltk.stem import WordNetLemmatizer\n",
    "from nltk.corpus import stopwords\n",
    "from nltk.tokenize import word_tokenize, RegexpTokenizer\n",
    "from sklearn.feature_extraction.text import CountVectorizer, TfidfTransformer, TfidfVectorizer\n",
    "from sklearn.model_selection import train_test_split\n",
    "from sklearn.metrics import roc_auc_score\n",
    "\n",
    "from sklearn.naive_bayes import MultinomialNB\n",
    "from sklearn.svm import SVC\n",
    "from sklearn.linear_model import SGDClassifier\n",
    "from sklearn.tree import DecisionTreeClassifier\n",
    "from sklearn.ensemble import GradientBoostingClassifier\n",
    "from sklearn.preprocessing import MinMaxScaler\n",
    "\n",
    "from gensim.models import Word2Vec\n",
    "from gensim import corpora"
   ]
  },
  {
   "cell_type": "code",
   "execution_count": 2,
   "id": "ac8da302",
   "metadata": {},
   "outputs": [],
   "source": [
    "DATAFRAME_SIZE = 5000"
   ]
  },
  {
   "cell_type": "code",
   "execution_count": 3,
   "id": "4e6e15c9",
   "metadata": {
    "scrolled": false
   },
   "outputs": [],
   "source": [
    "data = pd.read_csv(\"dictionary_documents/text_rating_final.csv\", delimiter=\";\", \n",
    "                   header=None, index_col=False, usecols=[0,1])\n",
    "data = data.rename(columns = {0: \"text\", 1: \"rating\"})\n",
    "data.dropna(inplace=True)\n",
    "data = data[data['rating'] != ' совершенный']\n",
    "data['rating'] = data['rating'].astype(\"Int8\")"
   ]
  },
  {
   "cell_type": "code",
   "execution_count": 4,
   "id": "d07e377f",
   "metadata": {},
   "outputs": [
    {
     "data": {
      "text/html": [
       "<div>\n",
       "<style scoped>\n",
       "    .dataframe tbody tr th:only-of-type {\n",
       "        vertical-align: middle;\n",
       "    }\n",
       "\n",
       "    .dataframe tbody tr th {\n",
       "        vertical-align: top;\n",
       "    }\n",
       "\n",
       "    .dataframe thead th {\n",
       "        text-align: right;\n",
       "    }\n",
       "</style>\n",
       "<table border=\"1\" class=\"dataframe\">\n",
       "  <thead>\n",
       "    <tr style=\"text-align: right;\">\n",
       "      <th></th>\n",
       "      <th>text</th>\n",
       "      <th>rating</th>\n",
       "    </tr>\n",
       "  </thead>\n",
       "  <tbody>\n",
       "    <tr>\n",
       "      <th>0</th>\n",
       "      <td>Не рациональная системность, а интуитивный поз...</td>\n",
       "      <td>0</td>\n",
       "    </tr>\n",
       "    <tr>\n",
       "      <th>1</th>\n",
       "      <td>Когда возникнут трудности, они тебе не помогут...</td>\n",
       "      <td>0</td>\n",
       "    </tr>\n",
       "    <tr>\n",
       "      <th>2</th>\n",
       "      <td>Кривая национализация это политический компром...</td>\n",
       "      <td>-1</td>\n",
       "    </tr>\n",
       "    <tr>\n",
       "      <th>3</th>\n",
       "      <td>Такой вид биологического оружия не действует н...</td>\n",
       "      <td>-2</td>\n",
       "    </tr>\n",
       "    <tr>\n",
       "      <th>4</th>\n",
       "      <td>В Эль-Кусейре /к западу от Хомса/ сирийские по...</td>\n",
       "      <td>0</td>\n",
       "    </tr>\n",
       "  </tbody>\n",
       "</table>\n",
       "</div>"
      ],
      "text/plain": [
       "                                                text  rating\n",
       "0  Не рациональная системность, а интуитивный поз...       0\n",
       "1  Когда возникнут трудности, они тебе не помогут...       0\n",
       "2  Кривая национализация это политический компром...      -1\n",
       "3  Такой вид биологического оружия не действует н...      -2\n",
       "4  В Эль-Кусейре /к западу от Хомса/ сирийские по...       0"
      ]
     },
     "execution_count": 4,
     "metadata": {},
     "output_type": "execute_result"
    }
   ],
   "source": [
    "data.head(5)"
   ]
  },
  {
   "cell_type": "code",
   "execution_count": 5,
   "id": "d05b1b3d",
   "metadata": {},
   "outputs": [],
   "source": [
    "x_train, x_test, y_train, y_test = train_test_split(data['text'].iloc[:DATAFRAME_SIZE], data['rating'][:DATAFRAME_SIZE], test_size=0.15)"
   ]
  },
  {
   "cell_type": "code",
   "execution_count": 6,
   "id": "718bde19",
   "metadata": {},
   "outputs": [],
   "source": [
    "stopwords = stopwords.words(\"russian\")\n",
    "stopwords.append(\"хотя\")\n",
    "def tokenize(string):\n",
    "    morph = pymorphy2.MorphAnalyzer()\n",
    "    tokens = RegexpTokenizer(r'\\w+').tokenize(string)\n",
    "    tokens = [word.lower() for word in tokens]\n",
    "    tokens = [morph.parse(word)[0].normal_form for word in tokens if word not in stopwords]\n",
    "    return tokens"
   ]
  },
  {
   "cell_type": "markdown",
   "id": "c25d41ac",
   "metadata": {},
   "source": [
    "\n",
    "dictionary = corpora.Dictionary(texts)\n",
    "print(dictionary)"
   ]
  },
  {
   "cell_type": "markdown",
   "id": "903ff410",
   "metadata": {},
   "source": [
    "corpus = [dictionary.doc2bow(text) for text in texts] "
   ]
  },
  {
   "cell_type": "code",
   "execution_count": 7,
   "id": "be817450",
   "metadata": {},
   "outputs": [],
   "source": [
    "\n",
    "words = data['text'].iloc[:DATAFRAME_SIZE].apply(tokenize)\n",
    "\n",
    "model = Word2Vec(words, vector_size=100, window=5, min_count=1, workers=4)\n"
   ]
  },
  {
   "cell_type": "code",
   "execution_count": 8,
   "id": "c1fad03d",
   "metadata": {},
   "outputs": [
    {
     "data": {
      "text/plain": [
       "1"
      ]
     },
     "execution_count": 8,
     "metadata": {},
     "output_type": "execute_result"
    }
   ],
   "source": [
    "min_text_len = min(words.apply(lambda x: len(x)))\n",
    "min_text_len"
   ]
  },
  {
   "cell_type": "code",
   "execution_count": 9,
   "id": "c710f887",
   "metadata": {},
   "outputs": [],
   "source": [
    "texts_vec = words.apply(lambda x: np.array([model.wv[word] for word in x[:min_text_len]]).flatten())"
   ]
  },
  {
   "cell_type": "code",
   "execution_count": 10,
   "id": "40ff6e5f",
   "metadata": {},
   "outputs": [
    {
     "data": {
      "text/plain": [
       "0       [-0.14240888, 0.1032877, 0.10725801, -0.035282...\n",
       "1       [-0.7073613, 0.36703652, 0.37928185, -0.166437...\n",
       "2       [-0.049675565, 0.06647608, 0.082118005, 0.0163...\n",
       "3       [-0.8636363, 0.63454586, 0.39170438, -0.504366...\n",
       "4       [0.5103069, 0.6620866, 0.2946358, 0.47766864, ...\n",
       "                              ...                        \n",
       "5060    [-0.20513567, 0.26451427, 0.15334693, -0.07629...\n",
       "5061    [-0.23628291, 0.4651627, 0.30830526, 0.0400724...\n",
       "5062    [-1.7998368, 0.64708793, 1.0831647, -0.3659704...\n",
       "5063    [-0.9765456, 0.37701946, 0.5551496, -0.5954423...\n",
       "5064    [0.10557134, 0.34285146, 0.8978536, 0.58991903...\n",
       "Name: text, Length: 5000, dtype: object"
      ]
     },
     "execution_count": 10,
     "metadata": {},
     "output_type": "execute_result"
    }
   ],
   "source": [
    "texts_vec"
   ]
  },
  {
   "cell_type": "code",
   "execution_count": 11,
   "id": "6571c9e8",
   "metadata": {},
   "outputs": [],
   "source": [
    "w2v_x_train, w2v_x_test, w2v_y_train, w2v_y_test = train_test_split(texts_vec, data['rating'][:DATAFRAME_SIZE], test_size=0.15)\n",
    "w2v_x_train, w2v_x_test = np.vstack(w2v_x_train), np.vstack(w2v_x_test)"
   ]
  },
  {
   "cell_type": "code",
   "execution_count": 14,
   "id": "98b8e7ba",
   "metadata": {
    "scrolled": true
   },
   "outputs": [
    {
     "name": "stdout",
     "output_type": "stream",
     "text": [
      "Метод векторизации - Мешок слов. Классификатор - Наивный байесовский классификатор, Score - 0.384\n",
      "Метод векторизации - Мешок слов. Классификатор - Метод опорных векторов, Score - 0.36933333333333335\n",
      "Метод векторизации - Мешок слов. Классификатор - Дерево решений, Score - 0.37466666666666665\n",
      "Метод векторизации - Мешок слов. Классификатор - Ансамблевый метод(Бустинг), Score - 0.44266666666666665\n",
      "Метод векторизации - TF-IDF. Классификатор - Наивный байесовский классификатор, Score - 0.4666666666666667\n",
      "Метод векторизации - TF-IDF. Классификатор - Метод опорных векторов, Score - 0.3933333333333333\n",
      "Метод векторизации - TF-IDF. Классификатор - Дерево решений, Score - 0.36933333333333335\n",
      "Метод векторизации - TF-IDF. Классификатор - Ансамблевый метод(Бустинг), Score - 0.428\n",
      "Метод векторизации - Word2Vec. Классификатор - Наивный байесовский классификатор, Score - 0.43333333333333335\n",
      "Метод векторизации - Word2Vec. Классификатор - Метод опорных векторов, Score - 0.404\n",
      "Метод векторизации - Word2Vec. Классификатор - Дерево решений, Score - 0.38266666666666665\n",
      "Метод векторизации - Word2Vec. Классификатор - Ансамблевый метод(Бустинг), Score - 0.4106666666666667\n",
      "{'Мешок слов': {'Наивный байесовский классификатор': 0.384, 'Метод опорных векторов': 0.36933333333333335, 'Дерево решений': 0.37466666666666665, 'Ансамблевый метод(Бустинг)': 0.44266666666666665}, 'TF-IDF': {'Наивный байесовский классификатор': 0.4666666666666667, 'Метод опорных векторов': 0.3933333333333333, 'Дерево решений': 0.36933333333333335, 'Ансамблевый метод(Бустинг)': 0.428}, 'Word2Vec': {'Наивный байесовский классификатор': 0.43333333333333335, 'Метод опорных векторов': 0.404, 'Дерево решений': 0.38266666666666665, 'Ансамблевый метод(Бустинг)': 0.4106666666666667}}\n"
     ]
    }
   ],
   "source": [
    "classifiers = {\"Наивный байесовский классификатор\": MultinomialNB(), \"Метод опорных векторов\":SGDClassifier(), \n",
    "               \"Дерево решений\": DecisionTreeClassifier(), \"Ансамблевый метод(Бустинг)\": GradientBoostingClassifier()}\n",
    "vectorizers = {\"Мешок слов\": CountVectorizer(lowercase=True, stop_words=stopwords), \n",
    "               \"TF-IDF\": TfidfVectorizer(lowercase=True, stop_words=stopwords)}\n",
    "scores = {}\n",
    "scaler = MinMaxScaler()\n",
    "for v_name, vectorizer in vectorizers.items():\n",
    "    train_transformed = vectorizer.fit_transform(x_train)\n",
    "    test_transformed = vectorizer.transform(x_test)\n",
    "    scores[v_name] = {}\n",
    "    for c_name, classifier in classifiers.items():\n",
    "        classifier.fit(train_transformed, y_train)\n",
    "        predicted = classifier.predict(test_transformed)\n",
    "        score = (predicted == y_test).sum()/len(predicted)\n",
    "        scores[v_name][c_name] = score\n",
    "        print(f\"Метод векторизации - {v_name}. Классификатор - {c_name}, Score - {score}\")\n",
    "scores[\"Word2Vec\"] = {}\n",
    "for c_name, classifier in classifiers.items():\n",
    "    if c_name == \"Наивный байесовский классификатор\":\n",
    "        classifier.fit(scaler.fit_transform(w2v_x_train), w2v_y_train)\n",
    "        predicted = classifier.predict(scaler.transform(w2v_x_test))\n",
    "    else:\n",
    "        classifier.fit(w2v_x_train, w2v_y_train)\n",
    "        predicted = classifier.predict(w2v_x_test)\n",
    "    score = (predicted == w2v_y_test).sum()/len(predicted)\n",
    "    scores['Word2Vec'][c_name] = score\n",
    "    print(f\"Метод векторизации - Word2Vec. Классификатор - {c_name}, Score - {score}\")\n",
    "print(scores)"
   ]
  },
  {
   "cell_type": "code",
   "execution_count": 15,
   "id": "2bb6b3f2",
   "metadata": {},
   "outputs": [
    {
     "name": "stderr",
     "output_type": "stream",
     "text": [
      "C:\\Users\\admin\\AppData\\Local\\Temp\\ipykernel_12108\\3470188130.py:11: UserWarning: FixedFormatter should only be used together with FixedLocator\n",
      "  ax.set_xticklabels(names)\n"
     ]
    },
    {
     "data": {
      "text/plain": [
       "<matplotlib.legend.Legend at 0x18333ad3350>"
      ]
     },
     "execution_count": 15,
     "metadata": {},
     "output_type": "execute_result"
    },
    {
     "data": {
      "image/png": "[encoded data removed]",
      "text/plain": [
       "<Figure size 1500x480 with 1 Axes>"
      ]
     },
     "metadata": {},
     "output_type": "display_data"
    }
   ],
   "source": [
    "fig, ax = plt.subplots()\n",
    "fig.set_figwidth(15)\n",
    "a = np.arange(len(scores['TF-IDF']))\n",
    "width = 0.2\n",
    "\n",
    "names = classifiers.keys()\n",
    "\n",
    "ax.bar(a - width, scores['TF-IDF'].values(), label = 'TF-IDF', width=width)\n",
    "ax.bar(a, scores['Мешок слов'].values(), label = 'Мешок слов', width=width)\n",
    "ax.bar(a + width, scores['Word2Vec'].values(), label = 'Word2Vec', width=width)\n",
    "ax.set_xticklabels(names)\n",
    "ax.set_xticks(a)\n",
    "ax.legend()"
   ]
  },
  {
   "cell_type": "markdown",
   "id": "de161ab7",
   "metadata": {},
   "source": [
    "Тональный словарь"
   ]
  },
  {
   "cell_type": "code",
   "execution_count": 16,
   "id": "753c461d",
   "metadata": {},
   "outputs": [],
   "source": [
    "dictionary = pd.read_csv(\"dictionary_documents/words_all_full_rating.csv\", delimiter=\";\", encoding = \"Windows-1251\")\n",
    "dictionary.head(5)\n",
    "dictionary.set_index(\"Words\", inplace=True)"
   ]
  },
  {
   "cell_type": "code",
   "execution_count": 17,
   "id": "48152388",
   "metadata": {},
   "outputs": [],
   "source": [
    "def get_average_rate(tokens):\n",
    "    s = 0\n",
    "    i = 0\n",
    "    for word in tokens:\n",
    "        try:\n",
    "            s += dictionary.loc[word]['average rate']\n",
    "            \n",
    "            i += 1\n",
    "        except:\n",
    "            pass\n",
    "    return round(s/i)"
   ]
  },
  {
   "cell_type": "code",
   "execution_count": 18,
   "id": "d06676ad",
   "metadata": {},
   "outputs": [
    {
     "data": {
      "text/plain": [
       "0"
      ]
     },
     "execution_count": 18,
     "metadata": {},
     "output_type": "execute_result"
    }
   ],
   "source": [
    "get_average_rate(words.iloc[0])"
   ]
  },
  {
   "cell_type": "code",
   "execution_count": 19,
   "id": "9d87a669",
   "metadata": {},
   "outputs": [],
   "source": [
    "predicted = words.apply(get_average_rate)"
   ]
  },
  {
   "cell_type": "code",
   "execution_count": 30,
   "id": "3b4cc587",
   "metadata": {},
   "outputs": [
    {
     "data": {
      "text/plain": [
       "5000"
      ]
     },
     "execution_count": 30,
     "metadata": {},
     "output_type": "execute_result"
    }
   ],
   "source": [
    "(data['rating'][:DATAFRAME_SIZE] == 0).count()"
   ]
  },
  {
   "cell_type": "code",
   "execution_count": 32,
   "id": "7a23b03e",
   "metadata": {},
   "outputs": [
    {
     "data": {
      "text/plain": [
       "text      2099\n",
       "rating    2099\n",
       "dtype: int64"
      ]
     },
     "execution_count": 32,
     "metadata": {},
     "output_type": "execute_result"
    }
   ],
   "source": [
    "data[:DATAFRAME_SIZE].loc[data['rating'] == 0].count()"
   ]
  },
  {
   "cell_type": "code",
   "execution_count": 20,
   "id": "bdf3ef13",
   "metadata": {},
   "outputs": [
    {
     "data": {
      "text/plain": [
       "0.4202"
      ]
     },
     "execution_count": 20,
     "metadata": {},
     "output_type": "execute_result"
    }
   ],
   "source": [
    "(predicted == data['rating'][:DATAFRAME_SIZE]).sum()/len(predicted)"
   ]
  },
  {
   "cell_type": "code",
   "execution_count": 21,
   "id": "e805d511",
   "metadata": {},
   "outputs": [
    {
     "data": {
      "text/plain": [
       "0         0\n",
       "1         0\n",
       "2        -1\n",
       "3        -2\n",
       "4         0\n",
       "         ..\n",
       "32432     0\n",
       "32433    -2\n",
       "32434    -1\n",
       "32435    -2\n",
       "32436     0\n",
       "Name: rating, Length: 32249, dtype: Int8"
      ]
     },
     "execution_count": 21,
     "metadata": {},
     "output_type": "execute_result"
    }
   ],
   "source": [
    "data['rating']"
   ]
  },
  {
   "cell_type": "code",
   "execution_count": null,
   "id": "1628328a",
   "metadata": {},
   "outputs": [],
   "source": []
  },
  {
   "cell_type": "code",
   "execution_count": null,
   "id": "e4c5f636",
   "metadata": {},
   "outputs": [],
   "source": []
  }
 ],
 "metadata": {
  "kernelspec": {
   "display_name": "Python 3 (ipykernel)",
   "language": "python",
   "name": "python3"
  },
  "language_info": {
   "codemirror_mode": {
    "name": "ipython",
    "version": 3
   },
   "file_extension": ".py",
   "mimetype": "text/x-python",
   "name": "python",
   "nbconvert_exporter": "python",
   "pygments_lexer": "ipython3",
   "version": "3.11.3"
  }
 },
 "nbformat": 4,
 "nbformat_minor": 5
}
